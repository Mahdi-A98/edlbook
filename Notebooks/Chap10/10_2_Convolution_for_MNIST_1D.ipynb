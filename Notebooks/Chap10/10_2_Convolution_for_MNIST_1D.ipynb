{
  "nbformat": 4,
  "nbformat_minor": 0,
  "metadata": {
    "colab": {
      "provenance": [],
      "include_colab_link": true
    },
    "kernelspec": {
      "name": "python3",
      "display_name": "Python 3"
    },
    "language_info": {
      "name": "python"
    }
  },
  "cells": [
    {
      "cell_type": "markdown",
      "metadata": {
        "id": "view-in-github",
        "colab_type": "text"
      },
      "source": [
        "<a href=\"https://colab.research.google.com/github/Mahdi-A98/edlbook/blob/main/Notebooks/Chap10/10_2_Convolution_for_MNIST_1D.ipynb\" target=\"_parent\"><img src=\"https://colab.research.google.com/assets/colab-badge.svg\" alt=\"Open In Colab\"/></a>"
      ]
    },
    {
      "cell_type": "markdown",
      "source": [
        "# **Notebook 10.2: Convolution for MNIST-1D**\n",
        "\n",
        "This notebook investigates a 1D convolutional network for MNIST-1D as in figure 10.7 and 10.8a.\n",
        "\n",
        "Work through the cells below, running each cell in turn. In various places you will see the words \"TODO\". Follow the instructions at these places and make predictions about what is going to happen or write code to complete the functions.\n",
        "\n",
        "Contact me at udlbookmail@gmail.com if you find any mistakes or have any suggestions.\n",
        "\n"
      ],
      "metadata": {
        "id": "t9vk9Elugvmi"
      }
    },
    {
      "cell_type": "code",
      "source": [
        "# Run this if you're in a Colab to install MNIST 1D repository\n",
        "!pip install git+https://github.com/greydanus/mnist1d"
      ],
      "metadata": {
        "id": "D5yLObtZCi9J",
        "outputId": "67c1bf15-db72-4772-d5e8-625ba9141ba0",
        "colab": {
          "base_uri": "https://localhost:8080/"
        }
      },
      "execution_count": 1,
      "outputs": [
        {
          "output_type": "stream",
          "name": "stdout",
          "text": [
            "Collecting git+https://github.com/greydanus/mnist1d\n",
            "  Cloning https://github.com/greydanus/mnist1d to /tmp/pip-req-build-xmdy3920\n",
            "  Running command git clone --filter=blob:none --quiet https://github.com/greydanus/mnist1d /tmp/pip-req-build-xmdy3920\n",
            "  Resolved https://github.com/greydanus/mnist1d to commit 7878d96082abd200c546a07a4101fa90b30fdf7e\n",
            "  Installing build dependencies ... \u001b[?25l\u001b[?25hdone\n",
            "  Getting requirements to build wheel ... \u001b[?25l\u001b[?25hdone\n",
            "  Preparing metadata (pyproject.toml) ... \u001b[?25l\u001b[?25hdone\n",
            "Requirement already satisfied: requests in /usr/local/lib/python3.11/dist-packages (from mnist1d==0.0.2.post16) (2.32.3)\n",
            "Requirement already satisfied: numpy in /usr/local/lib/python3.11/dist-packages (from mnist1d==0.0.2.post16) (2.0.2)\n",
            "Requirement already satisfied: matplotlib in /usr/local/lib/python3.11/dist-packages (from mnist1d==0.0.2.post16) (3.10.0)\n",
            "Requirement already satisfied: scipy in /usr/local/lib/python3.11/dist-packages (from mnist1d==0.0.2.post16) (1.16.1)\n",
            "Requirement already satisfied: contourpy>=1.0.1 in /usr/local/lib/python3.11/dist-packages (from matplotlib->mnist1d==0.0.2.post16) (1.3.3)\n",
            "Requirement already satisfied: cycler>=0.10 in /usr/local/lib/python3.11/dist-packages (from matplotlib->mnist1d==0.0.2.post16) (0.12.1)\n",
            "Requirement already satisfied: fonttools>=4.22.0 in /usr/local/lib/python3.11/dist-packages (from matplotlib->mnist1d==0.0.2.post16) (4.59.0)\n",
            "Requirement already satisfied: kiwisolver>=1.3.1 in /usr/local/lib/python3.11/dist-packages (from matplotlib->mnist1d==0.0.2.post16) (1.4.8)\n",
            "Requirement already satisfied: packaging>=20.0 in /usr/local/lib/python3.11/dist-packages (from matplotlib->mnist1d==0.0.2.post16) (25.0)\n",
            "Requirement already satisfied: pillow>=8 in /usr/local/lib/python3.11/dist-packages (from matplotlib->mnist1d==0.0.2.post16) (11.3.0)\n",
            "Requirement already satisfied: pyparsing>=2.3.1 in /usr/local/lib/python3.11/dist-packages (from matplotlib->mnist1d==0.0.2.post16) (3.2.3)\n",
            "Requirement already satisfied: python-dateutil>=2.7 in /usr/local/lib/python3.11/dist-packages (from matplotlib->mnist1d==0.0.2.post16) (2.9.0.post0)\n",
            "Requirement already satisfied: charset-normalizer<4,>=2 in /usr/local/lib/python3.11/dist-packages (from requests->mnist1d==0.0.2.post16) (3.4.2)\n",
            "Requirement already satisfied: idna<4,>=2.5 in /usr/local/lib/python3.11/dist-packages (from requests->mnist1d==0.0.2.post16) (3.10)\n",
            "Requirement already satisfied: urllib3<3,>=1.21.1 in /usr/local/lib/python3.11/dist-packages (from requests->mnist1d==0.0.2.post16) (2.5.0)\n",
            "Requirement already satisfied: certifi>=2017.4.17 in /usr/local/lib/python3.11/dist-packages (from requests->mnist1d==0.0.2.post16) (2025.8.3)\n",
            "Requirement already satisfied: six>=1.5 in /usr/local/lib/python3.11/dist-packages (from python-dateutil>=2.7->matplotlib->mnist1d==0.0.2.post16) (1.17.0)\n",
            "Building wheels for collected packages: mnist1d\n",
            "  Building wheel for mnist1d (pyproject.toml) ... \u001b[?25l\u001b[?25hdone\n",
            "  Created wheel for mnist1d: filename=mnist1d-0.0.2.post16-py3-none-any.whl size=14665 sha256=be3ceadb8387eddf9835f24d00cc4c891842e5e2ab6887a8061bbe633b524c1c\n",
            "  Stored in directory: /tmp/pip-ephem-wheel-cache-61okam9u/wheels/d6/38/42/3d2112bc7d915f6195254ac85eb761d922d1b18f52817aa8e2\n",
            "Successfully built mnist1d\n",
            "Installing collected packages: mnist1d\n",
            "Successfully installed mnist1d-0.0.2.post16\n"
          ]
        }
      ]
    },
    {
      "cell_type": "code",
      "source": [
        "import numpy as np\n",
        "import os\n",
        "import torch, torch.nn as nn\n",
        "from torch.utils.data import TensorDataset, DataLoader\n",
        "from torch.optim.lr_scheduler import StepLR\n",
        "import matplotlib.pyplot as plt\n",
        "import mnist1d\n",
        "import random"
      ],
      "metadata": {
        "id": "YrXWAH7sUWvU"
      },
      "execution_count": 2,
      "outputs": []
    },
    {
      "cell_type": "code",
      "source": [
        "args = mnist1d.data.get_dataset_args()\n",
        "data = mnist1d.data.get_dataset(args, path='./mnist1d_data.pkl', download=False, regenerate=False)\n",
        "\n",
        "# The training and test input and outputs are in\n",
        "# data['x'], data['y'], data['x_test'], and data['y_test']\n",
        "print(\"Examples in training set: {}\".format(len(data['y'])))\n",
        "print(\"Examples in test set: {}\".format(len(data['y_test'])))\n",
        "print(\"Length of each example: {}\".format(data['x'].shape[-1]))"
      ],
      "metadata": {
        "id": "twI72ZCrCt5z",
        "outputId": "88ffdf3c-f76d-41a1-c7b0-aa342e73b47e",
        "colab": {
          "base_uri": "https://localhost:8080/"
        }
      },
      "execution_count": 3,
      "outputs": [
        {
          "output_type": "stream",
          "name": "stdout",
          "text": [
            "Did or could not load data from ./mnist1d_data.pkl. Rebuilding dataset...\n",
            "Examples in training set: 4000\n",
            "Examples in test set: 1000\n",
            "Length of each example: 40\n"
          ]
        }
      ]
    },
    {
      "cell_type": "code",
      "source": [
        "# Load in the data\n",
        "train_data_x = data['x'].transpose()\n",
        "train_data_y = data['y']\n",
        "val_data_x = data['x_test'].transpose()\n",
        "val_data_y = data['y_test']\n",
        "# Print out sizes\n",
        "print(\"Train data: %d examples (columns), each of which has %d dimensions (rows)\"%((train_data_x.shape[1],train_data_x.shape[0])))\n",
        "print(\"Validation data: %d examples (columns), each of which has %d dimensions (rows)\"%((val_data_x.shape[1],val_data_x.shape[0])))"
      ],
      "metadata": {
        "id": "8bKADvLHbiV5",
        "outputId": "9a6dafca-c5ae-431a-a424-372ec774f495",
        "colab": {
          "base_uri": "https://localhost:8080/"
        }
      },
      "execution_count": 4,
      "outputs": [
        {
          "output_type": "stream",
          "name": "stdout",
          "text": [
            "Train data: 4000 examples (columns), each of which has 40 dimensions (rows)\n",
            "Validation data: 1000 examples (columns), each of which has 40 dimensions (rows)\n"
          ]
        }
      ]
    },
    {
      "cell_type": "markdown",
      "source": [
        "Define the network"
      ],
      "metadata": {
        "id": "_sFvRDGrl4qe"
      }
    },
    {
      "cell_type": "code",
      "source": [
        "# There are 40 input dimensions and 10 output dimensions for this data\n",
        "# The inputs correspond to the 40 offsets in the MNIST1D template.\n",
        "D_i = 40\n",
        "# The outputs correspond to the 10 digits\n",
        "D_o = 10\n",
        "\n",
        "\n",
        "# TODO Create a model with the following layers\n",
        "# 1. Convolutional layer, (input=length 40 and 1 channel, kernel size 3, stride 2, padding=\"valid\", 15 output channels )\n",
        "# 2. ReLU\n",
        "# 3. Convolutional layer, (input=length 19 and 15 channels, kernel size 3, stride 2, padding=\"valid\", 15 output channels )\n",
        "# 4. ReLU\n",
        "# 5. Convolutional layer, (input=length 9 and 15 channels, kernel size 3, stride 2, padding=\"valid\", 15 output channels)\n",
        "# 6. ReLU\n",
        "# 7. Flatten (converts 4x15) to length 60\n",
        "# 8. Linear layer (input size = 60, output size = 10)\n",
        "# References:\n",
        "# https://pytorch.org/docs/1.13/generated/torch.nn.Conv1d.html?highlight=conv1d#torch.nn.Conv1d\n",
        "# https://pytorch.org/docs/stable/generated/torch.nn.Flatten.html\n",
        "# https://pytorch.org/docs/1.13/generated/torch.nn.Linear.html?highlight=linear#torch.nn.Linear\n",
        "\n",
        "# NOTE THAT THE CONVOLUTIONAL LAYERS NEED TO TAKE THE NUMBER OF INPUT CHANNELS AS A PARAMETER\n",
        "# AND NOT THE INPUT SIZE.\n",
        "\n",
        "# Replace the following function:\n",
        "# model = nn.Sequential(\n",
        "# nn.Flatten(),\n",
        "# nn.Linear(40, 100),\n",
        "# nn.ReLU(),\n",
        "# nn.Linear(100, 100),\n",
        "# nn.ReLU(),\n",
        "# nn.Linear(100, 10))\n",
        "\n",
        "# my asnwer\n",
        "model = nn.Sequential(\n",
        "  nn.Conv1d(in_channels=1, out_channels=15, kernel_size=3, stride=2, padding=\"valid\"),\n",
        "  nn.ReLU(),\n",
        "  nn.Conv1d(in_channels=15, out_channels=15, kernel_size=3, stride=2, padding=\"valid\"),\n",
        "  nn.ReLU(),\n",
        "  nn.Conv1d(in_channels=15, out_channels=15, kernel_size=3, stride=2, padding=\"valid\"),\n",
        "  nn.ReLU(),\n",
        "  nn.Flatten(),\n",
        "  nn.Linear(60, 10),\n",
        ")\n",
        "\n",
        "\n",
        "\n",
        "\n"
      ],
      "metadata": {
        "id": "FslroPJJffrh"
      },
      "execution_count": 5,
      "outputs": []
    },
    {
      "cell_type": "code",
      "source": [
        "# He initialization of weights\n",
        "def weights_init(layer_in):\n",
        "  if isinstance(layer_in, nn.Linear):\n",
        "    nn.init.kaiming_uniform_(layer_in.weight)\n",
        "    layer_in.bias.data.fill_(0.0)"
      ],
      "metadata": {
        "id": "YgLaex1pfhqz"
      },
      "execution_count": 6,
      "outputs": []
    },
    {
      "cell_type": "code",
      "source": [
        "# choose cross entropy loss function (equation 5.24 in the loss notes)\n",
        "loss_function = nn.CrossEntropyLoss()\n",
        "# construct SGD optimizer and initialize learning rate and momentum\n",
        "optimizer = torch.optim.SGD(model.parameters(), lr = 0.05, momentum=0.9)\n",
        "# object that decreases learning rate by half every 20 epochs\n",
        "scheduler = StepLR(optimizer, step_size=20, gamma=0.5)\n",
        "# create 100 dummy data points and store in data loader class\n",
        "x_train = torch.tensor(train_data_x.transpose().astype('float32'))\n",
        "y_train = torch.tensor(train_data_y.astype('long')).long()\n",
        "x_val= torch.tensor(val_data_x.transpose().astype('float32'))\n",
        "y_val = torch.tensor(val_data_y.astype('long')).long()\n",
        "\n",
        "# load the data into a class that creates the batches\n",
        "data_loader = DataLoader(TensorDataset(x_train,y_train), batch_size=100, shuffle=True, worker_init_fn=np.random.seed(1))\n",
        "\n",
        "# Initialize model weights\n",
        "model.apply(weights_init)\n",
        "\n",
        "# loop over the dataset n_epoch times\n",
        "n_epoch = 100\n",
        "# store the loss and the % correct at each epoch\n",
        "losses_train = np.zeros((n_epoch))\n",
        "errors_train = np.zeros((n_epoch))\n",
        "losses_val = np.zeros((n_epoch))\n",
        "errors_val = np.zeros((n_epoch))\n",
        "\n",
        "for epoch in range(n_epoch):\n",
        "  # loop over batches\n",
        "  for i, data in enumerate(data_loader):\n",
        "    # retrieve inputs and labels for this batch\n",
        "    x_batch, y_batch = data\n",
        "    # zero the parameter gradients\n",
        "    optimizer.zero_grad()\n",
        "    # forward pass -- calculate model output\n",
        "    pred = model(x_batch[:,None,:])\n",
        "    # compute the loss\n",
        "    loss = loss_function(pred, y_batch)\n",
        "    # backward pass\n",
        "    loss.backward()\n",
        "    # SGD update\n",
        "    optimizer.step()\n",
        "\n",
        "  # Run whole dataset to get statistics -- normally wouldn't do this\n",
        "  pred_train = model(x_train[:,None,:])\n",
        "  pred_val = model(x_val[:,None,:])\n",
        "  _, predicted_train_class = torch.max(pred_train.data, 1)\n",
        "  _, predicted_val_class = torch.max(pred_val.data, 1)\n",
        "  errors_train[epoch] = 100 - 100 * (predicted_train_class == y_train).float().sum() / len(y_train)\n",
        "  errors_val[epoch]= 100 - 100 * (predicted_val_class == y_val).float().sum() / len(y_val)\n",
        "  losses_train[epoch] = loss_function(pred_train, y_train).item()\n",
        "  losses_val[epoch]= loss_function(pred_val, y_val).item()\n",
        "  print(f'Epoch {epoch:5d}, train loss {losses_train[epoch]:.6f}, train error {errors_train[epoch]:3.2f},  val loss {losses_val[epoch]:.6f}, percent error {errors_val[epoch]:3.2f}')\n",
        "\n",
        "  # tell scheduler to consider updating learning rate\n",
        "  scheduler.step()\n",
        "\n",
        "# Plot the results\n",
        "fig, ax = plt.subplots()\n",
        "ax.plot(errors_train,'r-',label='train')\n",
        "ax.plot(errors_val,'b-',label='validation')\n",
        "ax.set_ylim(0,100); ax.set_xlim(0,n_epoch)\n",
        "ax.set_xlabel('Epoch'); ax.set_ylabel('Error')\n",
        "ax.set_title('Part I: Validation Result %3.2f'%(errors_val[-1]))\n",
        "ax.legend()\n",
        "plt.show()"
      ],
      "metadata": {
        "id": "NYw8I_3mmX5c",
        "outputId": "4bc55c95-ffe3-4117-e0fb-2c1b706d95ac",
        "colab": {
          "base_uri": "https://localhost:8080/",
          "height": 1000
        }
      },
      "execution_count": 7,
      "outputs": [
        {
          "output_type": "stream",
          "name": "stdout",
          "text": [
            "Epoch     0, train loss 2.061933, train error 80.03,  val loss 2.079505, percent error 81.40\n",
            "Epoch     1, train loss 1.766332, train error 71.62,  val loss 1.790708, percent error 73.90\n",
            "Epoch     2, train loss 1.541025, train error 58.55,  val loss 1.554009, percent error 62.20\n",
            "Epoch     3, train loss 1.398382, train error 56.25,  val loss 1.406792, percent error 58.80\n",
            "Epoch     4, train loss 1.302768, train error 54.15,  val loss 1.309666, percent error 55.10\n",
            "Epoch     5, train loss 1.229632, train error 51.15,  val loss 1.236993, percent error 52.60\n",
            "Epoch     6, train loss 1.137192, train error 45.38,  val loss 1.144090, percent error 48.30\n",
            "Epoch     7, train loss 1.058399, train error 44.10,  val loss 1.086322, percent error 45.00\n",
            "Epoch     8, train loss 0.960325, train error 38.35,  val loss 1.006835, percent error 41.30\n",
            "Epoch     9, train loss 0.930732, train error 39.20,  val loss 0.982220, percent error 41.90\n",
            "Epoch    10, train loss 0.949483, train error 36.08,  val loss 1.001097, percent error 39.80\n",
            "Epoch    11, train loss 0.787850, train error 31.10,  val loss 0.845959, percent error 34.90\n",
            "Epoch    12, train loss 0.721262, train error 27.82,  val loss 0.794973, percent error 30.70\n",
            "Epoch    13, train loss 0.614725, train error 23.03,  val loss 0.738600, percent error 29.30\n",
            "Epoch    14, train loss 0.528385, train error 20.45,  val loss 0.645592, percent error 26.90\n",
            "Epoch    15, train loss 0.559590, train error 21.57,  val loss 0.685431, percent error 26.70\n",
            "Epoch    16, train loss 0.439107, train error 16.93,  val loss 0.573513, percent error 21.00\n",
            "Epoch    17, train loss 0.637347, train error 21.80,  val loss 0.747883, percent error 25.70\n",
            "Epoch    18, train loss 0.427738, train error 15.43,  val loss 0.535394, percent error 19.20\n",
            "Epoch    19, train loss 0.343982, train error 12.78,  val loss 0.463632, percent error 17.70\n",
            "Epoch    20, train loss 0.281525, train error 9.22,  val loss 0.416667, percent error 13.30\n",
            "Epoch    21, train loss 0.270138, train error 9.20,  val loss 0.432559, percent error 15.40\n",
            "Epoch    22, train loss 0.252165, train error 9.00,  val loss 0.420971, percent error 15.70\n",
            "Epoch    23, train loss 0.252059, train error 9.05,  val loss 0.432449, percent error 14.90\n",
            "Epoch    24, train loss 0.284663, train error 10.28,  val loss 0.481522, percent error 16.40\n",
            "Epoch    25, train loss 0.211009, train error 7.72,  val loss 0.364281, percent error 13.40\n",
            "Epoch    26, train loss 0.201660, train error 6.97,  val loss 0.382225, percent error 13.70\n",
            "Epoch    27, train loss 0.197387, train error 6.95,  val loss 0.410938, percent error 15.10\n",
            "Epoch    28, train loss 0.189018, train error 6.75,  val loss 0.375699, percent error 13.60\n",
            "Epoch    29, train loss 0.222858, train error 7.93,  val loss 0.437418, percent error 14.70\n",
            "Epoch    30, train loss 0.165290, train error 5.97,  val loss 0.368478, percent error 12.50\n",
            "Epoch    31, train loss 0.164774, train error 6.00,  val loss 0.393155, percent error 13.30\n",
            "Epoch    32, train loss 0.149425, train error 4.72,  val loss 0.381565, percent error 12.10\n",
            "Epoch    33, train loss 0.144081, train error 4.95,  val loss 0.385396, percent error 13.60\n",
            "Epoch    34, train loss 0.135443, train error 4.50,  val loss 0.378165, percent error 12.30\n",
            "Epoch    35, train loss 0.170392, train error 6.53,  val loss 0.410500, percent error 12.90\n",
            "Epoch    36, train loss 0.163995, train error 5.60,  val loss 0.398200, percent error 13.30\n",
            "Epoch    37, train loss 0.113801, train error 3.50,  val loss 0.330842, percent error 11.50\n",
            "Epoch    38, train loss 0.128089, train error 4.28,  val loss 0.401336, percent error 12.10\n",
            "Epoch    39, train loss 0.128170, train error 4.28,  val loss 0.368244, percent error 10.80\n",
            "Epoch    40, train loss 0.092798, train error 3.05,  val loss 0.357396, percent error 11.80\n",
            "Epoch    41, train loss 0.084702, train error 2.25,  val loss 0.330306, percent error 11.00\n",
            "Epoch    42, train loss 0.083128, train error 2.32,  val loss 0.358108, percent error 11.00\n",
            "Epoch    43, train loss 0.082087, train error 2.32,  val loss 0.340789, percent error 11.10\n",
            "Epoch    44, train loss 0.075706, train error 2.00,  val loss 0.360447, percent error 11.00\n",
            "Epoch    45, train loss 0.083278, train error 2.28,  val loss 0.366065, percent error 11.50\n",
            "Epoch    46, train loss 0.070718, train error 1.85,  val loss 0.354118, percent error 10.30\n",
            "Epoch    47, train loss 0.073989, train error 2.12,  val loss 0.359500, percent error 10.00\n",
            "Epoch    48, train loss 0.069132, train error 1.88,  val loss 0.365749, percent error 10.50\n",
            "Epoch    49, train loss 0.076252, train error 2.10,  val loss 0.383918, percent error 10.70\n",
            "Epoch    50, train loss 0.062512, train error 1.57,  val loss 0.369077, percent error 10.60\n",
            "Epoch    51, train loss 0.066099, train error 1.75,  val loss 0.364994, percent error 10.70\n",
            "Epoch    52, train loss 0.070969, train error 2.05,  val loss 0.382721, percent error 10.80\n",
            "Epoch    53, train loss 0.062058, train error 1.65,  val loss 0.372391, percent error 10.80\n",
            "Epoch    54, train loss 0.062048, train error 1.60,  val loss 0.382187, percent error 10.70\n",
            "Epoch    55, train loss 0.053862, train error 1.40,  val loss 0.368737, percent error 9.80\n",
            "Epoch    56, train loss 0.055923, train error 1.45,  val loss 0.378458, percent error 10.40\n",
            "Epoch    57, train loss 0.052365, train error 1.38,  val loss 0.368529, percent error 10.30\n",
            "Epoch    58, train loss 0.049864, train error 1.05,  val loss 0.375797, percent error 10.50\n",
            "Epoch    59, train loss 0.049796, train error 1.12,  val loss 0.383963, percent error 10.60\n",
            "Epoch    60, train loss 0.045054, train error 0.82,  val loss 0.372087, percent error 10.60\n",
            "Epoch    61, train loss 0.043696, train error 0.78,  val loss 0.384079, percent error 10.50\n",
            "Epoch    62, train loss 0.043039, train error 0.82,  val loss 0.381751, percent error 10.60\n",
            "Epoch    63, train loss 0.042260, train error 0.65,  val loss 0.385050, percent error 10.40\n",
            "Epoch    64, train loss 0.042389, train error 0.60,  val loss 0.392175, percent error 10.40\n",
            "Epoch    65, train loss 0.040966, train error 0.62,  val loss 0.382560, percent error 10.20\n",
            "Epoch    66, train loss 0.040916, train error 0.70,  val loss 0.394065, percent error 10.20\n",
            "Epoch    67, train loss 0.040113, train error 0.55,  val loss 0.396799, percent error 10.40\n",
            "Epoch    68, train loss 0.039553, train error 0.68,  val loss 0.395551, percent error 10.30\n",
            "Epoch    69, train loss 0.039141, train error 0.60,  val loss 0.400180, percent error 10.40\n",
            "Epoch    70, train loss 0.040793, train error 0.70,  val loss 0.399095, percent error 10.70\n",
            "Epoch    71, train loss 0.037846, train error 0.47,  val loss 0.403042, percent error 10.50\n",
            "Epoch    72, train loss 0.037356, train error 0.47,  val loss 0.396404, percent error 10.40\n",
            "Epoch    73, train loss 0.036823, train error 0.57,  val loss 0.410002, percent error 10.20\n",
            "Epoch    74, train loss 0.037368, train error 0.55,  val loss 0.406971, percent error 10.50\n",
            "Epoch    75, train loss 0.037426, train error 0.47,  val loss 0.413823, percent error 10.30\n",
            "Epoch    76, train loss 0.035347, train error 0.47,  val loss 0.404556, percent error 10.60\n",
            "Epoch    77, train loss 0.036525, train error 0.47,  val loss 0.406418, percent error 10.60\n",
            "Epoch    78, train loss 0.034786, train error 0.47,  val loss 0.407760, percent error 10.10\n",
            "Epoch    79, train loss 0.034867, train error 0.43,  val loss 0.411808, percent error 10.10\n",
            "Epoch    80, train loss 0.032717, train error 0.38,  val loss 0.407681, percent error 10.50\n",
            "Epoch    81, train loss 0.032439, train error 0.40,  val loss 0.408118, percent error 10.30\n",
            "Epoch    82, train loss 0.032009, train error 0.30,  val loss 0.411885, percent error 10.40\n",
            "Epoch    83, train loss 0.032006, train error 0.35,  val loss 0.413245, percent error 10.30\n",
            "Epoch    84, train loss 0.031569, train error 0.30,  val loss 0.415497, percent error 10.10\n",
            "Epoch    85, train loss 0.031217, train error 0.32,  val loss 0.413050, percent error 10.50\n",
            "Epoch    86, train loss 0.031086, train error 0.30,  val loss 0.413551, percent error 10.30\n",
            "Epoch    87, train loss 0.030863, train error 0.30,  val loss 0.417802, percent error 10.40\n",
            "Epoch    88, train loss 0.030937, train error 0.30,  val loss 0.415526, percent error 10.40\n",
            "Epoch    89, train loss 0.030574, train error 0.28,  val loss 0.420836, percent error 10.30\n",
            "Epoch    90, train loss 0.030399, train error 0.30,  val loss 0.417984, percent error 10.50\n",
            "Epoch    91, train loss 0.030648, train error 0.35,  val loss 0.423073, percent error 10.20\n",
            "Epoch    92, train loss 0.030421, train error 0.28,  val loss 0.419498, percent error 10.30\n",
            "Epoch    93, train loss 0.030929, train error 0.30,  val loss 0.416311, percent error 10.60\n",
            "Epoch    94, train loss 0.029696, train error 0.30,  val loss 0.421210, percent error 10.40\n",
            "Epoch    95, train loss 0.029251, train error 0.28,  val loss 0.422614, percent error 10.30\n",
            "Epoch    96, train loss 0.029121, train error 0.25,  val loss 0.425282, percent error 10.40\n",
            "Epoch    97, train loss 0.028943, train error 0.25,  val loss 0.424393, percent error 10.50\n",
            "Epoch    98, train loss 0.028716, train error 0.25,  val loss 0.425897, percent error 10.20\n",
            "Epoch    99, train loss 0.028653, train error 0.25,  val loss 0.424792, percent error 10.30\n"
          ]
        },
        {
          "output_type": "display_data",
          "data": {
            "text/plain": [
              "<Figure size 640x480 with 1 Axes>"
            ],
            "image/png": "[encoded data removed]"
          },
          "metadata": {}
        }
      ]
    }
  ]
}